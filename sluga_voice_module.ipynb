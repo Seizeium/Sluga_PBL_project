{
 "cells": [
  {
   "cell_type": "code",
   "execution_count": 10,
   "metadata": {},
   "outputs": [
    {
     "name": "stdout",
     "output_type": "stream",
     "text": [
      "Recording...\n",
      "Finished recording.\n",
      "Loading Whisper model...\n",
      "Transcribing audio...\n",
      "Transcription:  Develop a comprehensive understanding of the current development in cloud innovation and AI and their potential to transfer.\n"
     ]
    }
   ],
   "source": [
    "# SLUGA VOICE RECORDING AND TRANSCRIPTION MODULE\n",
    "import whisper\n",
    "import pyaudio\n",
    "import wave\n",
    "\n",
    "# Initialize PyAudio for recording\n",
    "CHUNK = 1024  # Buffer size for audio chunks\n",
    "FORMAT = pyaudio.paInt16  # Audio format\n",
    "CHANNELS = 1  # Mono channel\n",
    "RATE = 16000  # Sample rate (16000 Hz is supported by Whisper)\n",
    "RECORD_SECONDS = 10  # Duration to record audio (in seconds)\n",
    "OUTPUT_WAV_FILE = \"live_audio.wav\"  # Temporary file to save audio\n",
    "\n",
    "# Initialize PyAudio instance\n",
    "audio = pyaudio.PyAudio()\n",
    "\n",
    "# Start the microphone stream\n",
    "print(\"Recording...\")\n",
    "stream = audio.open(format=FORMAT, \n",
    "                    channels=CHANNELS,\n",
    "                    rate=RATE, \n",
    "                    input=True, \n",
    "                    frames_per_buffer=CHUNK)\n",
    "\n",
    "frames = []\n",
    "for _ in range(0, int(RATE / CHUNK * RECORD_SECONDS)):\n",
    "    data = stream.read(CHUNK)\n",
    "    frames.append(data)\n",
    "\n",
    "# Stop and close the audio stream\n",
    "stream.stop_stream()\n",
    "stream.close()\n",
    "audio.terminate()\n",
    "\n",
    "print(\"Finished recording.\")\n",
    "\n",
    "# Save audio to a WAV file\n",
    "with wave.open(OUTPUT_WAV_FILE, 'wb') as wf:\n",
    "    wf.setnchannels(CHANNELS)\n",
    "    wf.setsampwidth(audio.get_sample_size(FORMAT))\n",
    "    wf.setframerate(RATE)\n",
    "    wf.writeframes(b''.join(frames))\n",
    "\n",
    "# Load the Whisper model\n",
    "print(\"Loading Whisper model...\")\n",
    "model = whisper.load_model(\"base\")  # Options: \"tiny\", \"base\", \"small\", \"medium\", \"large\"\n",
    "\n",
    "# Transcribe the recorded audio\n",
    "print(\"Transcribing audio...\")\n",
    "result = model.transcribe(OUTPUT_WAV_FILE)\n",
    "print(\"Transcription:\", result[\"text\"])\n"
   ]
  },
  {
   "cell_type": "code",
   "execution_count": null,
   "metadata": {},
   "outputs": [],
   "source": []
  }
 ],
 "metadata": {
  "kernelspec": {
   "display_name": "Python 3",
   "language": "python",
   "name": "python3"
  },
  "language_info": {
   "codemirror_mode": {
    "name": "ipython",
    "version": 3
   },
   "file_extension": ".py",
   "mimetype": "text/x-python",
   "name": "python",
   "nbconvert_exporter": "python",
   "pygments_lexer": "ipython3",
   "version": "3.12.4"
  }
 },
 "nbformat": 4,
 "nbformat_minor": 2
}
